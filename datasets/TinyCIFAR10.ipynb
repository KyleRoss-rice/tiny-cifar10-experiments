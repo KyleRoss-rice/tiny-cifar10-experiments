{
  "nbformat": 4,
  "nbformat_minor": 0,
  "metadata": {
    "colab": {
      "name": "TinyCIFAR10.ipynb",
      "provenance": [],
      "collapsed_sections": [],
      "authorship_tag": "ABX9TyPcy/wPAwepT9qkrKM9F6L8",
      "include_colab_link": true
    },
    "kernelspec": {
      "name": "python3",
      "display_name": "Python 3"
    },
    "language_info": {
      "name": "python"
    }
  },
  "cells": [
    {
      "cell_type": "markdown",
      "metadata": {
        "id": "view-in-github",
        "colab_type": "text"
      },
      "source": [
        "<a href=\"https://colab.research.google.com/github/KyleRoss-rice/tiny-cifar10-experiments/blob/main/datasets/TinyCIFAR10.ipynb\" target=\"_parent\"><img src=\"https://colab.research.google.com/assets/colab-badge.svg\" alt=\"Open In Colab\"/></a>"
      ]
    },
    {
      "cell_type": "code",
      "metadata": {
        "id": "26W8uiJGwsGX"
      },
      "source": [
        "from torch.utils.data import Dataset\n",
        "import os\n",
        "import numpy as np"
      ],
      "execution_count": null,
      "outputs": []
    },
    {
      "cell_type": "code",
      "metadata": {
        "id": "NL8pvU2bqHQS"
      },
      "source": [
        "class TinyCIFAR10(Dataset):\n",
        "  def __init__(self, root_dir, use_augmented = True, subset_id = 0, train = True, download = True, transform=None):      \n",
        "    self.url = 'https://github.com/KyleRoss-rice/tiny-cifar10-experiments/raw/main/datasets/tiny-cifar10.tar.gz'\n",
        "\n",
        "    aug = ''\n",
        "    if use_augmented:\n",
        "      aug = '-aug'\n",
        "\n",
        "    self.training_data_filepath = f'{root_dir}/tiny-cifar10{aug}-training-data.npy'\n",
        "    self.training_labels_filepath = f'{root_dir}/tiny-cifar10{aug}-training-labels.npy'\n",
        "    self.validation_data_filepath = f'{root_dir}/tiny-cifar10-validation-data.npy'\n",
        "    self.validation_labels_filepath = f'{root_dir}/tiny-cifar10-validation-labels.npy'\n",
        "\n",
        "    self.subset_id = subset_id\n",
        "    self.root_dir = root_dir\n",
        "\n",
        "    self.train = train\n",
        "    self.transform = transform\n",
        "\n",
        "    if download:\n",
        "      self.download(root_dir)\n",
        "    self.load()\n",
        "  \n",
        "  def __len__(self):\n",
        "    return len(self.data)\n",
        "\n",
        "  def __getitem__(self, index):\n",
        "    data = self.data[index]\n",
        "    target = self.targets[index]\n",
        "\n",
        "    if self.transform is not None:\n",
        "      data = self.transform(data)\n",
        "    \n",
        "    return data, target\n",
        "\n",
        "  def download(self, root_dir):\n",
        "    if os.path.exists(f'{root_dir}/tiny-cifar10.tar.gz'):\n",
        "      print('tiny-cifar10.tar.gz file already downloaded. Will not extract again')\n",
        "      return\n",
        "    \n",
        "    if not os.path.exists(root_dir):\n",
        "      os.mkdir(root_dir)\n",
        "    torchvision.datasets.utils.download_and_extract_archive(self.url, self.root_dir, filename='tiny-cifar10.tar.gz')\n",
        "\n",
        "  def load(self):\n",
        "    # code needs to be cleaned a bit\n",
        "    if self.train:\n",
        "      with open(self.training_data_filepath, 'rb') as f:\n",
        "        self.data = np.load(f)[self.subset_id]\n",
        "      with open(self.training_labels_filepath, 'rb') as f:\n",
        "        self.targets = np.load(f)\n",
        "    else:\n",
        "      with open(self.validation_data_filepath, 'rb') as f:\n",
        "        self.data = np.load(f)\n",
        "      with open(self.validation_labels_filepath, 'rb') as f:\n",
        "        self.targets = np.load(f)\n"
      ],
      "execution_count": null,
      "outputs": []
    }
  ]
}